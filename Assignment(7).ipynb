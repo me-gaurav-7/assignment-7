{
 "cells": [
  {
   "cell_type": "code",
   "execution_count": 1,
   "id": "35f4d5d3-06e6-48c3-9c61-169b3442bbf4",
   "metadata": {},
   "outputs": [],
   "source": [
    "#In Python, a tuple is an immutable sequence of elements, enclosed in parentheses (), separated by commas. "
   ]
  },
  {
   "cell_type": "code",
   "execution_count": 2,
   "id": "f80064cd-50cb-47b3-8183-55a0915bfb6b",
   "metadata": {},
   "outputs": [],
   "source": [
    "#Here's an example of tuple:\n",
    "my_tuple = (1,2,3, 'a', 'b', 'c')"
   ]
  },
  {
   "cell_type": "code",
   "execution_count": 3,
   "id": "0891a9de-db90-4778-81c0-d95cc482bf04",
   "metadata": {},
   "outputs": [
    {
     "name": "stdout",
     "output_type": "stream",
     "text": [
      "1\n"
     ]
    }
   ],
   "source": [
    "print(my_tuple[0])"
   ]
  },
  {
   "cell_type": "code",
   "execution_count": 4,
   "id": "0475072c-d257-4269-920a-b506a6c9e56b",
   "metadata": {},
   "outputs": [
    {
     "name": "stdout",
     "output_type": "stream",
     "text": [
      "a\n"
     ]
    }
   ],
   "source": [
    "print(my_tuple[3])"
   ]
  },
  {
   "cell_type": "code",
   "execution_count": 5,
   "id": "5c6c4cbc-bc05-4417-84a3-8cfff3677034",
   "metadata": {},
   "outputs": [],
   "source": [
    "# The main difference between tuples and lists in Python is that tuples are immutable, meaning their elements cannot be modified once the tuple is created, whereas lists are mutable and can be modified."
   ]
  },
  {
   "cell_type": "code",
   "execution_count": 6,
   "id": "9cc4783e-effc-4c93-8818-d32f5dc758cb",
   "metadata": {},
   "outputs": [],
   "source": [
    "# Here's an example to illustrate the difference:"
   ]
  },
  {
   "cell_type": "code",
   "execution_count": 7,
   "id": "1eb53f2d-6fbc-49b3-b2a0-9816c365d2d4",
   "metadata": {},
   "outputs": [],
   "source": [
    "my_tuple = (1,2,3) "
   ]
  },
  {
   "cell_type": "code",
   "execution_count": 8,
   "id": "fc4c0b70-9418-4f56-98e5-6ce484f0bce1",
   "metadata": {},
   "outputs": [],
   "source": [
    "my_list = [1,2,3]"
   ]
  },
  {
   "cell_type": "code",
   "execution_count": 11,
   "id": "9135e6c5-ebe9-4273-a243-2c5746bf9749",
   "metadata": {},
   "outputs": [],
   "source": [
    "# Modifying a list\n",
    "my_list[0] = 4"
   ]
  },
  {
   "cell_type": "code",
   "execution_count": 12,
   "id": "8d4747e6-e78c-40e7-b02d-642613d399f2",
   "metadata": {},
   "outputs": [
    {
     "name": "stdout",
     "output_type": "stream",
     "text": [
      "[4, 2, 3]\n"
     ]
    }
   ],
   "source": [
    "print(my_list)"
   ]
  },
  {
   "cell_type": "code",
   "execution_count": 14,
   "id": "938badba-4448-4afc-a66b-58ab74b5fe9f",
   "metadata": {},
   "outputs": [],
   "source": [
    "# Trying to modify a tuple\n",
    "# my_tuple[0] = 4\n",
    "# Raises TypeError: 'tuple' object does not support item assignment"
   ]
  },
  {
   "cell_type": "code",
   "execution_count": 15,
   "id": "76f17680-9dc1-44f5-9b6d-6c65d2737dda",
   "metadata": {},
   "outputs": [],
   "source": [
    "# No, a tuple cannot be changed or modified once it is created in Python. Tuples are immutable, which means that their elements and structure cannot be altered after creation."
   ]
  },
  {
   "cell_type": "code",
   "execution_count": 18,
   "id": "019ba06d-d43b-4216-9274-4981e30af3d5",
   "metadata": {},
   "outputs": [],
   "source": [
    "my_tuple = (1,2,3)"
   ]
  },
  {
   "cell_type": "code",
   "execution_count": 19,
   "id": "0f50c003-843a-4c3f-92a6-c59051a1769d",
   "metadata": {},
   "outputs": [
    {
     "name": "stdout",
     "output_type": "stream",
     "text": [
      "(1, 2, 3)\n"
     ]
    }
   ],
   "source": [
    "print(my_tuple) "
   ]
  },
  {
   "cell_type": "code",
   "execution_count": 21,
   "id": "ec59fa9b-8e18-4393-a456-3b297c483ec4",
   "metadata": {},
   "outputs": [],
   "source": [
    "# Trying to modify the tuple\n",
    "# my_tuple[0] = 4  # Raises TypeError: 'tuple' object does not support item assignment"
   ]
  },
  {
   "cell_type": "code",
   "execution_count": 22,
   "id": "7dbcb871-b1c0-4922-a94c-498063d47d5b",
   "metadata": {},
   "outputs": [],
   "source": [
    "# We can access element in a tuple using indexing."
   ]
  },
  {
   "cell_type": "code",
   "execution_count": 23,
   "id": "2d07c65f-40cf-4257-b874-671d69f1a640",
   "metadata": {},
   "outputs": [],
   "source": [
    "my_tuple = ('a', 'b', 'c', 'd', 'e')"
   ]
  },
  {
   "cell_type": "code",
   "execution_count": 25,
   "id": "78b0ccb9-77ea-46a1-9be1-b5ccffa14fc4",
   "metadata": {},
   "outputs": [
    {
     "name": "stdout",
     "output_type": "stream",
     "text": [
      "a\n"
     ]
    }
   ],
   "source": [
    "print(my_tuple[0])"
   ]
  },
  {
   "cell_type": "code",
   "execution_count": 26,
   "id": "9a0664f0-1a0b-4bb4-bfa5-ac3317c93656",
   "metadata": {},
   "outputs": [
    {
     "name": "stdout",
     "output_type": "stream",
     "text": [
      "b\n"
     ]
    }
   ],
   "source": [
    "print(my_tuple[1])"
   ]
  },
  {
   "cell_type": "code",
   "execution_count": 27,
   "id": "b672ab3e-ba56-437c-81ba-73514914943a",
   "metadata": {},
   "outputs": [
    {
     "name": "stdout",
     "output_type": "stream",
     "text": [
      "c\n"
     ]
    }
   ],
   "source": [
    "print(my_tuple[2])"
   ]
  },
  {
   "cell_type": "code",
   "execution_count": 28,
   "id": "119eb8d2-197d-4084-8476-8773b1af3081",
   "metadata": {},
   "outputs": [],
   "source": [
    "# We can unpack a tuple by assigning its individual elements to separate variables."
   ]
  },
  {
   "cell_type": "code",
   "execution_count": 29,
   "id": "97a83dce-20a8-4e3a-b683-e755de126b1c",
   "metadata": {},
   "outputs": [],
   "source": [
    "my_tuple = (1,2,3)"
   ]
  },
  {
   "cell_type": "code",
   "execution_count": 30,
   "id": "d3684a22-2871-4b39-9099-4a5abe3ba2b3",
   "metadata": {},
   "outputs": [],
   "source": [
    "a,b,c = my_tuple"
   ]
  },
  {
   "cell_type": "code",
   "execution_count": 31,
   "id": "f645dc29-57c5-4026-9252-c5ea09cf4567",
   "metadata": {},
   "outputs": [
    {
     "name": "stdout",
     "output_type": "stream",
     "text": [
      "1\n"
     ]
    }
   ],
   "source": [
    "print(a)"
   ]
  },
  {
   "cell_type": "code",
   "execution_count": 32,
   "id": "f89ae14b-ba18-44fb-81ab-db8f0fc55217",
   "metadata": {},
   "outputs": [
    {
     "name": "stdout",
     "output_type": "stream",
     "text": [
      "2\n"
     ]
    }
   ],
   "source": [
    "print(b)"
   ]
  },
  {
   "cell_type": "code",
   "execution_count": 33,
   "id": "5728f545-4287-4ede-94eb-7d462338f1c3",
   "metadata": {},
   "outputs": [
    {
     "name": "stdout",
     "output_type": "stream",
     "text": [
      "3\n"
     ]
    }
   ],
   "source": [
    "print(c)"
   ]
  }
 ],
 "metadata": {
  "kernelspec": {
   "display_name": "Python 3 (ipykernel)",
   "language": "python",
   "name": "python3"
  },
  "language_info": {
   "codemirror_mode": {
    "name": "ipython",
    "version": 3
   },
   "file_extension": ".py",
   "mimetype": "text/x-python",
   "name": "python",
   "nbconvert_exporter": "python",
   "pygments_lexer": "ipython3",
   "version": "3.10.8"
  }
 },
 "nbformat": 4,
 "nbformat_minor": 5
}
